{
 "cells": [
  {
   "cell_type": "markdown",
   "id": "870ee9c8",
   "metadata": {},
   "source": [
    "<h1>Módulo 2: Aprendizado Supervisionado: Classificação</h1>\n",
    "\n",
    "<h3>Objetivo: Prever se um cliente irá devolver ou não um produto.</h3>\n",
    "\n",
    "<h2>1. Introdução e Coleta dos Dados</h2>\n",
    "\n",
    "<h3>O que é Classificação?</h3>\n",
    "<ul>\n",
    "<li>Técnica de aprendizado supervisionado.</li>\n",
    "<li>O objetivo é prever uma categoria ou classe.</li>\n",
    "<li>Exemplos incluem detecção de spam, diagnóstico médico, e previsão de churn de clientes.</li>\n",
    "</ul>    \n",
    "<h3>Coleta dos Dados:</h3>\n",
    "<ul>\n",
    "<li>Histórico de Transações: Registros de compras feitas pelos clientes.</li>\n",
    "<li>Dados de Devolução: Informações sobre quais produtos foram devolvidos e por quem.</li>\n",
    "<li>Características do Cliente: Dados demográficos como idade, sexo, localização, histórico de compras, etc.</li>\n",
    "<li>Características do Produto: Tipo de produto, preço, categoria, etc.</li>\n",
    "</ul>    "
   ]
  },
  {
   "cell_type": "markdown",
   "id": "3f06fd36",
   "metadata": {},
   "source": [
    "<img src=\"M2_tipos_aprendizado.png\" width=\"500\" height=\"200\">"
   ]
  },
  {
   "cell_type": "code",
   "execution_count": 1,
   "id": "458e38fd",
   "metadata": {},
   "outputs": [],
   "source": [
    "# Ocultar todos os warnings (Opcional)\n",
    "import warnings\n",
    "warnings.filterwarnings('ignore')"
   ]
  },
  {
   "cell_type": "markdown",
   "id": "12e935ba",
   "metadata": {},
   "source": [
    "<font color=\"blue\"> <h1>Prompt</h1> </font>"
   ]
  },
  {
   "cell_type": "markdown",
   "id": "a3814b5f",
   "metadata": {},
   "source": [
    "Nós vamos trabalhar com Aprendizado Supervisionado, utilizando a Classificação com Árvore de Decisão. A finalidade é prever se um cliente devolverá ou não um produto comprado. Vou fornecer um passo a passo para ser executado a seguir. Importante: Execute apenas as etapas que forem passadas e não importe ace_tools. "
   ]
  },
  {
   "cell_type": "markdown",
   "id": "732dbee6",
   "metadata": {},
   "source": [
    "<font color=\"blue\"> <h1>Prompt</h1> </font>"
   ]
  },
  {
   "cell_type": "markdown",
   "id": "0e93bfd9",
   "metadata": {},
   "source": [
    "Primeiro, importe as bibliotecas necessárias para manipulação de dados, clusterização e visualização: pandas, numpy, matplotlib e sklearn. Não exiba as versões das bibliotecas."
   ]
  },
  {
   "cell_type": "code",
   "execution_count": null,
   "id": "c614f205",
   "metadata": {},
   "outputs": [],
   "source": []
  },
  {
   "cell_type": "markdown",
   "id": "770db2b0",
   "metadata": {},
   "source": [
    "<font color=\"blue\"> <h1>Prompt</h1> </font>"
   ]
  },
  {
   "cell_type": "markdown",
   "id": "674781ea",
   "metadata": {},
   "source": [
    "Carregue a base de dados presente no link 'https://github.com/ksddavila/treinamentoMLChatGPT/raw/main/M2_base_devolucoes.xlsx'. Chame esse dataframe de 'df'"
   ]
  },
  {
   "cell_type": "code",
   "execution_count": null,
   "id": "2e05fabd",
   "metadata": {},
   "outputs": [],
   "source": []
  },
  {
   "cell_type": "markdown",
   "id": "31be5480",
   "metadata": {},
   "source": [
    "<h2>2. Análise de Dados e Pré-processamento</h2>\n",
    "\n",
    "<h2>Objetivo: Preparar os dados para o treinamento do modelo.</h2>\n",
    "\n",
    "<h3>Análise de Dados</h3>\n",
    "<ul>\n",
    "<li>Exploração dos dados: Verificar distribuições, estatísticas descritivas, e padrões nos dados.</li>\n",
    "<li>Visualizações: Gráficos de barras, histogramas, boxplots, e scatter plots para entender relações e distribuições.</li>\n",
    "</ul>\n",
    "    \n",
    "<h3>Pré-processamento</h3>\n",
    "<ul>\n",
    "<li><b>Lidando com valores nulos</b>: Tratar valores faltantes em colunas como Return_Date.</li>\n",
    "<li><b>Codificação de variáveis categóricas</b>: Transformar variáveis categóricas (e.g., Gender, Location, Category) em numéricas usando one-hot encoding.</li>\n",
    "<li><b>Normalização</b>: Escalar variáveis numéricas (e.g., Age, Price) para um intervalo padrão.</li>\n",
    "</ul>"
   ]
  },
  {
   "cell_type": "markdown",
   "id": "1404e8c6",
   "metadata": {},
   "source": [
    "<font color=\"blue\"> <h1>Prompt</h1> </font>"
   ]
  },
  {
   "cell_type": "markdown",
   "id": "7e5cd78a",
   "metadata": {},
   "source": [
    "Verifique se existem valores ausentes no dataframe."
   ]
  },
  {
   "cell_type": "code",
   "execution_count": null,
   "id": "f551d18f",
   "metadata": {},
   "outputs": [],
   "source": []
  },
  {
   "cell_type": "markdown",
   "id": "490da673",
   "metadata": {},
   "source": [
    "<font color=\"blue\"> <h1>Prompt</h1> </font>"
   ]
  },
  {
   "cell_type": "markdown",
   "id": "e3632fc8",
   "metadata": {},
   "source": [
    "Faça o tratamento dos valores ausentes encontrados. Nesse caso, remova a coluna 'DATA_DEVOLUCAO', uma vez que já temos essa informação na coluna 'DEVOLVEU'. Remova também a 'DATA_COMPRA' e 'ID_CLIENTE'.    "
   ]
  },
  {
   "cell_type": "code",
   "execution_count": null,
   "id": "c068a60c",
   "metadata": {},
   "outputs": [],
   "source": []
  },
  {
   "cell_type": "markdown",
   "id": "4d44fd13",
   "metadata": {},
   "source": [
    "<font color=\"blue\"> <h1>Prompt</h1> </font>"
   ]
  },
  {
   "cell_type": "markdown",
   "id": "12093493",
   "metadata": {},
   "source": [
    "Faça um histograma com a variável alvo 'DEVOLVEU'. Inclua rótulos de dados. "
   ]
  },
  {
   "cell_type": "code",
   "execution_count": null,
   "id": "952388a2",
   "metadata": {},
   "outputs": [],
   "source": []
  },
  {
   "cell_type": "markdown",
   "id": "123dae8f",
   "metadata": {},
   "source": [
    "<font color=\"blue\"> <h1>Prompt</h1> </font>"
   ]
  },
  {
   "cell_type": "markdown",
   "id": "101abd22",
   "metadata": {},
   "source": [
    "Crie um histograma agrupado colorido por 'DEVOLVEU' para cada uma das variáveis:\n",
    "\n",
    "'METODO_PAGAMENTO'\n",
    "\n",
    "'LOCALIZACAO'\n",
    "\n",
    "'CATEGORIA'\n",
    "\n",
    "'SEGMENTO_CLIENTE'\n",
    "\n",
    "Utilize barmode = 'group' e exiba cada gráfico legendado e com rótulos. "
   ]
  },
  {
   "cell_type": "code",
   "execution_count": null,
   "id": "2c1b5f73",
   "metadata": {
    "scrolled": false
   },
   "outputs": [],
   "source": []
  },
  {
   "cell_type": "markdown",
   "id": "3c6ef1f1",
   "metadata": {},
   "source": [
    "<font color=\"blue\"> <h1>Prompt</h1> </font>"
   ]
  },
  {
   "cell_type": "markdown",
   "id": "b7e8d06b",
   "metadata": {},
   "source": [
    "Separe as variáveis características (variáveis independentes) da variável alvo 'DEVOLVEU' (variável dependente)."
   ]
  },
  {
   "cell_type": "code",
   "execution_count": null,
   "id": "2aab1be3",
   "metadata": {},
   "outputs": [],
   "source": []
  },
  {
   "cell_type": "markdown",
   "id": "573f76c9",
   "metadata": {},
   "source": [
    "<font color=\"blue\"> <h1>Prompt</h1> </font>"
   ]
  },
  {
   "cell_type": "markdown",
   "id": "36650523",
   "metadata": {},
   "source": [
    "Codifique as variáveis categóricas utilizando o OneHotEncoder. "
   ]
  },
  {
   "cell_type": "markdown",
   "id": "0578d663",
   "metadata": {},
   "source": [
    "<img src=\"M2_variaveis_Categoricas.png\" width=\"300\" height=\"200\">"
   ]
  },
  {
   "cell_type": "code",
   "execution_count": null,
   "id": "4c8c774d",
   "metadata": {},
   "outputs": [],
   "source": []
  },
  {
   "cell_type": "markdown",
   "id": "fd870f21",
   "metadata": {},
   "source": [
    "<b>Importante</b>: Normalizar as variáveis numéricas pode ser útil para melhorar o desempenho de alguns algoritmos de aprendizado de máquina, incluindo árvores de decisão. No entanto, as árvores de decisão não são tão sensíveis à escala das variáveis quanto outros algoritmos, como métodos baseados em distância (por exemplo, KNN) ou redes neurais. Portanto, normalizar ou padronizar as variáveis numéricas não é estritamente necessário para uma árvore de decisão, mas pode ser feito para garantir que todas as variáveis estejam na mesma escala, especialmente se você planeja usar outros algoritmos mais tarde."
   ]
  },
  {
   "cell_type": "markdown",
   "id": "8904dae7",
   "metadata": {},
   "source": [
    "<font color=\"blue\"> <h1>Prompt</h1> </font>"
   ]
  },
  {
   "cell_type": "markdown",
   "id": "247ed306",
   "metadata": {},
   "source": [
    "Aplique o LabelEncoder na variável alvo 'DEVOLVEU'. "
   ]
  },
  {
   "cell_type": "code",
   "execution_count": null,
   "id": "aa80e267",
   "metadata": {},
   "outputs": [],
   "source": []
  },
  {
   "cell_type": "markdown",
   "id": "7817a01e",
   "metadata": {},
   "source": [
    "<h2>3. Treinamento do Modelo</h2>\n",
    "\n",
    "Uma árvore de decisão é como ir a um médico que faz uma série de perguntas a fim de determinar a causa dos seus sintomas. \n",
    "\n",
    "<h3>O que é?</h3>\n",
    "\n",
    "Árvore de Decisão é um algoritmo supervisionado de aprendizado de máquina utilizado para classificação e regressão. O objetivo é criar um modelo que prevê o valor do target, aprendendo regras simples através das features.\n",
    "\n",
    "<h3>Vantagens</h3>\n",
    "<ul>\n",
    "<li>Simples de entender e interpretar</li>\n",
    "<li>Necessita pouca preparação dos dados</li>\n",
    "<li>É capaz de lidar com variáveis númericas e categóricas</li>\n",
    "</ul>\n",
    "    \n",
    "<h3>Desvantagens</h3>\n",
    "<ul>\n",
    "<li>Árvores de decisão são propensos a criar modelos com overfitting que não generalizam bem</li>\n",
    "<li>Podem ser instáveis pois pequenas variáveis podem gerar árvores totalmente diferentes</li>\n",
    "</ul>\n",
    "\n",
    "<img src=\"M2_exemploarvore.png\" width=\"500\" height=\"200\">\n",
    "\n",
    "<img src=\"M2_treino_teste.png\" width=\"500\" height=\"200\">"
   ]
  },
  {
   "cell_type": "markdown",
   "id": "73b80956",
   "metadata": {},
   "source": [
    "<font color=\"blue\"> <h1>Prompt</h1> </font>"
   ]
  },
  {
   "cell_type": "markdown",
   "id": "6c60a75d",
   "metadata": {},
   "source": [
    "Vamos prosseguir com a divisão dos dados em conjuntos de treino e teste utilizando o train_test_split. Utilize um Stratify para manter a proporção da variável alvo. "
   ]
  },
  {
   "cell_type": "code",
   "execution_count": null,
   "id": "2c24040b",
   "metadata": {},
   "outputs": [],
   "source": []
  },
  {
   "cell_type": "markdown",
   "id": "8b31eb18",
   "metadata": {},
   "source": [
    "<font color=\"blue\"> <h1>Prompt</h1> </font>"
   ]
  },
  {
   "cell_type": "markdown",
   "id": "569c6fde",
   "metadata": {},
   "source": [
    "Aplique a árvore de decisão utilizando o Sklearn, faça previsões no conjunto de teste e calcule a acurácia. Explique esse resultado."
   ]
  },
  {
   "cell_type": "code",
   "execution_count": null,
   "id": "10542d3b",
   "metadata": {},
   "outputs": [],
   "source": []
  },
  {
   "cell_type": "markdown",
   "id": "01f9092e",
   "metadata": {},
   "source": [
    "<h2>4. Avaliação</h2>\n",
    "<ul>\n",
    "<li><b>Acurácia</b>: É a porcentagem de classificações corretas.</li>\n",
    "<li><b>Precisão</b>: A porcentagem de previsões corretas entre todas as previsões feitas para cada classe.</li>\n",
    "<li><b>Recall</b>: A capacidade do modelo de encontrar todas as instâncias positivas na classe alvo.</li>\n",
    "<li><b>F1-Score</b>: A média harmônica entre precisão e recall, usada como uma métrica balanceada.</li>\n",
    "</ul>    "
   ]
  },
  {
   "cell_type": "markdown",
   "id": "405a21d4",
   "metadata": {},
   "source": [
    "<h3>Matriz de Confusão</h3>\n",
    "<ul>\n",
    "<li><b>Verdadeiros Negativos (VN)</b>: Quando o valor real for 0 e a predição também for 0. Indica que o modelo classificou corretamente os valores da classe negativa.</li> \n",
    "<li><b>Falsos Positivos (FP)</b>: Quando o valor real for 0 e a predição for 1. Indica que o modelo classificou erroneamente um elemento da classe negativa como se fosse da classe positiva.</li>\n",
    "<li><b>Falsos Negativos (FN)</b>: Quando o valor real for 1 e a predição for 0. Indica que o modelo classificou erroneamente um elemento da classe positiva como se fosse da classe negativa.</li>\n",
    "<li><b>Verdadeiros Positivos (VP)</b>: Quando o valor real for 1 e a predição também for 1. Indica que o modelo classificou corretamente os valores da classe positiva.</li>\n",
    "</ul>"
   ]
  },
  {
   "cell_type": "markdown",
   "id": "ab51f463",
   "metadata": {},
   "source": [
    "<img src=\"M2_matriz_confusao.png\" width=\"300\" height=\"200\">"
   ]
  },
  {
   "cell_type": "markdown",
   "id": "917738fa",
   "metadata": {},
   "source": [
    "<font color=\"blue\"> <h1>Prompt</h1> </font>"
   ]
  },
  {
   "cell_type": "markdown",
   "id": "b00299be",
   "metadata": {},
   "source": [
    "Avalie a precisão do modelo com Acurácia, Matriz de Confusão, Precisão, Recall e F1-Score. Exiba o resultado usando print. Explique os resultados. "
   ]
  },
  {
   "cell_type": "code",
   "execution_count": null,
   "id": "39230546",
   "metadata": {},
   "outputs": [],
   "source": []
  },
  {
   "cell_type": "markdown",
   "id": "bc5a2b4c",
   "metadata": {},
   "source": [
    "<h2>5. Aplicando</h2>"
   ]
  },
  {
   "cell_type": "markdown",
   "id": "88b7b305",
   "metadata": {},
   "source": [
    "<font color=\"blue\"> <h1>Prompt</h1> </font>"
   ]
  },
  {
   "cell_type": "markdown",
   "id": "27ea63c9",
   "metadata": {},
   "source": [
    "Utilizando o modelo treinado e executando localmente, diga se a compra abaixo será devolvida. Garanta que o OneHotEncoder e o Label Encoder sejam aplicados. \n",
    "\n",
    "ID_CLIENTE: 2525\n",
    "\n",
    "DATA_COMPRA: 2024-01-01\n",
    "\n",
    "DATA_DEVOLUCAO: null\n",
    "\n",
    "IDADE: 28\n",
    "\n",
    "LOCALIZACAO: CAPITAL\n",
    "\n",
    "CATEGORIA: ELETRÔNICOS\n",
    "\n",
    "PRECO: 328  \n",
    "\n",
    "METODO_PAGAMENTO: CREDIÁRIO\n",
    "\n",
    "SEGMENTO_CLIENTE: SUMIDO\n",
    "\n",
    "DEVOLVEU: nao"
   ]
  },
  {
   "cell_type": "code",
   "execution_count": null,
   "id": "0ee93516",
   "metadata": {},
   "outputs": [],
   "source": []
  },
  {
   "cell_type": "markdown",
   "id": "78af83ae",
   "metadata": {},
   "source": [
    "<h2>6. Melhorando o modelo</h2>"
   ]
  },
  {
   "cell_type": "markdown",
   "id": "ebdc57ef",
   "metadata": {},
   "source": [
    "<font color=\"blue\"> <h1>Prompt</h1> </font>"
   ]
  },
  {
   "cell_type": "markdown",
   "id": "77b3502d",
   "metadata": {},
   "source": [
    "Qual a profundidade da árvore? "
   ]
  },
  {
   "cell_type": "code",
   "execution_count": null,
   "id": "23d87db5",
   "metadata": {},
   "outputs": [],
   "source": []
  },
  {
   "cell_type": "markdown",
   "id": "80bd24be",
   "metadata": {},
   "source": [
    "<font color=\"blue\"> <h1>Prompt</h1> </font>"
   ]
  },
  {
   "cell_type": "markdown",
   "id": "bae05a9e",
   "metadata": {},
   "source": [
    "Reduza a profundidade da árvore e aplique novamente as métricas de avaliação. Explique se isso melhorou o modelo. "
   ]
  },
  {
   "cell_type": "code",
   "execution_count": null,
   "id": "98c859e9",
   "metadata": {},
   "outputs": [],
   "source": []
  },
  {
   "cell_type": "markdown",
   "id": "c69b83d0",
   "metadata": {},
   "source": [
    "<font color=\"blue\"> <h1>Prompt</h1> </font>"
   ]
  },
  {
   "cell_type": "markdown",
   "id": "2d920562",
   "metadata": {},
   "source": [
    "Com a nova profundidade definida, responda se a compra abaixo será devolvida. Garanta que o OneHotEncoder e o Label Encoder sejam aplicados.\n",
    "\n",
    "ID_CLIENTE: 2525\n",
    "\n",
    "DATA_COMPRA: 2024-01-01\n",
    "\n",
    "DATA_DEVOLUCAO: null\n",
    "\n",
    "IDADE: 28\n",
    "\n",
    "LOCALIZACAO: CAPITAL\n",
    "\n",
    "CATEGORIA: ELETRÔNICOS\n",
    "\n",
    "PRECO: 328  \n",
    "\n",
    "METODO_PAGAMENTO: CREDIÁRIO\n",
    "\n",
    "SEGMENTO_CLIENTE: SUMIDO\n",
    "\n",
    "DEVOLVEU: nao"
   ]
  },
  {
   "cell_type": "code",
   "execution_count": null,
   "id": "86d406fe",
   "metadata": {},
   "outputs": [],
   "source": []
  }
 ],
 "metadata": {
  "kernelspec": {
   "display_name": "Python 3 (ipykernel)",
   "language": "python",
   "name": "python3"
  },
  "language_info": {
   "codemirror_mode": {
    "name": "ipython",
    "version": 3
   },
   "file_extension": ".py",
   "mimetype": "text/x-python",
   "name": "python",
   "nbconvert_exporter": "python",
   "pygments_lexer": "ipython3",
   "version": "3.11.4"
  }
 },
 "nbformat": 4,
 "nbformat_minor": 5
}
