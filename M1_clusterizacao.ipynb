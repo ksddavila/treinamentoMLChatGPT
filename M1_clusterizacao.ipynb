{
 "cells": [
  {
   "cell_type": "markdown",
   "id": "9a50f2b5",
   "metadata": {},
   "source": [
    "<h1>Módulo 1: Aprendizado Não Supervisionado: Clusterização</h1>\n",
    "\n",
    "<h3>Objetivo: Agrupar localizações de entrega em Manaus com base na latitude e longitude dos pontos de entrega.</h3>\n",
    "\n",
    "<h4>Importante:</h4> \n",
    "\n",
    "Por razões de simplificação, não trabalharemos com distância dirigível, mas você pode consultar uma solução aqui: <a>https://github.com/joaomj/tipos_distancias</a>\n",
    "\n",
    "<h2>1. Introdução e Coleta dos Dados</h2>\n",
    "\n",
    "<h3>O que é Clustering?</h3>\n",
    "<ul>\n",
    "<li>Técnica de aprendizado não supervisionado.</li>\n",
    "<li>Usada para dividir um grupo em conjuntos, agrupa dados similares sem rótulos predefinidos.</li>\n",
    "<li>Exemplos de uso: marketing segmentado, agrupamento de documentos, agrupamento de clientes e roteirização de entregas.</li>\n",
    "</ul>    \n",
    "\n",
    "<h3>Coleta dos Dados:</h3>\n",
    "<ul>\n",
    "<li>Dados fornecidos: latitude, longitude.</li>\n",
    "    <li>Google maps: <a>https://www.google.com/maps</a></li>\n",
    "</ul>    "
   ]
  },
  {
   "cell_type": "markdown",
   "id": "5fb7b81f",
   "metadata": {},
   "source": [
    "<img src=\"M1_latitude-longitude.jpg\" width=\"300\" height=\"150\">"
   ]
  },
  {
   "cell_type": "code",
   "execution_count": 1,
   "id": "f6ed31e9",
   "metadata": {},
   "outputs": [],
   "source": [
    "# Ocultar todos os warnings (Opcional)\n",
    "import warnings\n",
    "warnings.filterwarnings('ignore')"
   ]
  },
  {
   "cell_type": "markdown",
   "id": "8e42e83e",
   "metadata": {},
   "source": [
    "<font color=\"blue\"> <h1>Prompt</h1> </font>"
   ]
  },
  {
   "cell_type": "markdown",
   "id": "b6d078c3",
   "metadata": {},
   "source": [
    "Nós vamos trabalhar com aprendizado Não Supervisionado, utilizando a Clusterização (Agrupamento) com o K-Means. A finalidade é agrupar localizações de entrega. Vou fornecer um passo a passo para ser executado a seguir. Importante: Execute apenas as etapas que forem passadas e não aplique \"import ace_tools\". "
   ]
  },
  {
   "cell_type": "markdown",
   "id": "f23b6dae",
   "metadata": {},
   "source": [
    "<font color=\"blue\"> <h1>Prompt</h1> </font>"
   ]
  },
  {
   "cell_type": "markdown",
   "id": "c4f59b61",
   "metadata": {},
   "source": [
    "Primeiro, importe as bibliotecas necessárias para manipulação de dados, clusterização e visualização: pandas, numpy, matplotlib, sklearn. "
   ]
  },
  {
   "cell_type": "code",
   "execution_count": null,
   "id": "e7e196f5",
   "metadata": {},
   "outputs": [],
   "source": []
  },
  {
   "cell_type": "markdown",
   "id": "fa5848ee",
   "metadata": {},
   "source": [
    "<font color=\"blue\"> <h1>Prompt</h1> </font>"
   ]
  },
  {
   "cell_type": "markdown",
   "id": "6b393034",
   "metadata": {},
   "source": [
    "Crie um dataset ficticio e aleatório com o numpy. As colunas devem ser 'latitude' e 'longitude', limitadas à área de Manaus (lat_min, lat_max = -3.2, -3.0; lon_min, lon_max = -60.2, -59.9). Além disso, crie uma variável para determinar a quantidade de linhas do dataset e adicione a coluna 'entrega_n', que identifica a \"1, 2, 3, ..., n\" entrega. Atribua 42 à aleatoriedade. "
   ]
  },
  {
   "cell_type": "code",
   "execution_count": null,
   "id": "a2790716",
   "metadata": {},
   "outputs": [],
   "source": []
  },
  {
   "cell_type": "markdown",
   "id": "e9e567fc",
   "metadata": {},
   "source": [
    "<font color=\"blue\"> <h1>Prompt</h1> </font>"
   ]
  },
  {
   "cell_type": "markdown",
   "id": "a6e20ff0",
   "metadata": {},
   "source": [
    "Plote um gráfico de dispersão com latitude no eixo x e longitude no eixo y para visualizar a distribuição dos dados. "
   ]
  },
  {
   "cell_type": "code",
   "execution_count": null,
   "id": "171b2981",
   "metadata": {},
   "outputs": [],
   "source": []
  },
  {
   "cell_type": "markdown",
   "id": "8f2c61ab",
   "metadata": {},
   "source": [
    "<h2>2. Análise de Dados e Pré-processamento</h2>"
   ]
  },
  {
   "cell_type": "markdown",
   "id": "bc713977",
   "metadata": {},
   "source": [
    "<h2>Objetivo: Preparar os dados para o treinamento do modelo.</h2>\n",
    "\n",
    "<h3>Análise Exploratória:</h3>\n",
    "<ul>\n",
    "<li>Verificar valores ausentes.</li>\n",
    "<li>Distribuição das variáveis.</li>\n",
    "<li>Correlação entre as variáveis.</li>\n",
    "</ul>\n",
    "\n",
    "<h3>Pré-processamento:</h3>\n",
    "<ul>\n",
    "<li>Tratamento de valores ausentes.</li>\n",
    "</ul>"
   ]
  },
  {
   "cell_type": "markdown",
   "id": "391e68b5",
   "metadata": {},
   "source": [
    "<font color=\"blue\"> <h1>Prompt</h1> </font>"
   ]
  },
  {
   "cell_type": "markdown",
   "id": "65fb7b45",
   "metadata": {},
   "source": [
    "Verifique se existem valores ausentes no dataframe. "
   ]
  },
  {
   "cell_type": "code",
   "execution_count": null,
   "id": "c59a10cd",
   "metadata": {},
   "outputs": [],
   "source": []
  },
  {
   "cell_type": "markdown",
   "id": "967bbf3a",
   "metadata": {},
   "source": [
    "<h3>Normalização:</h3>\n",
    "<ul>    \n",
    "<li>Como o clustering utiliza métricas de distância para determinar quais amostras são semelhantes, o comportamento poderá mudar dependendo da escala dos dados.</li>\n",
    "<li>Podemos padronizar os dados e colocar todos os atributos na mesma escala.</li>\n",
    "<li>Normalizar os dados significa redimensioná-los para que todas as características tenham uma escala comparável.</li> \n",
    "<li>Usa-se um min-max, onde os dados são escalados para um intervalo entre 0 e 1.</li>    \n",
    "</ul>\n",
    "\n",
    "<h3>Exemplo de Normalização:</h3>\n",
    "<ul>\n",
    "<li>Os algoritmos de machine learning que utilizam distâncias, como regressão linear, k-NN e SVM, podem ser fortemente influenciados pela escala das características.</li>  \n",
    "<li>Por exemplo, uma \"Área da Casa\" tem valores na faixa de centenas (150 a 300), enquanto o \"Número de Quartos\" tem valores na faixa de unidades (2 a 4).</li> \n",
    "<li>Se treinarmos um modelo sem normalizar os dados, a \"Área da Casa\" terá uma influência desproporcionalmente maior no modelo devido aos seus valores muito maiores em comparação ao \"Número de Quartos\".</li>  \n",
    "<li>Isso pode fazer com que o modelo ignore a importância do \"Número de Quartos\" na determinação do preço da casa, resultando em previsões imprecisas.</li> \n",
    "    \n",
    "</ul>"
   ]
  },
  {
   "cell_type": "markdown",
   "id": "cb48f44f",
   "metadata": {},
   "source": [
    "<font color=\"blue\"> <h1>Prompt</h1> </font>"
   ]
  },
  {
   "cell_type": "markdown",
   "id": "eca18415",
   "metadata": {},
   "source": [
    "Normalize os dados das colunas 'latitude' e 'longitude' usando o MinMaxScaler do Sklearn, mas não perca a referência dos dados originais (modifique os nomes dessas colunas). Em seguida faça um gráfico de dispersão com o resultado."
   ]
  },
  {
   "cell_type": "code",
   "execution_count": null,
   "id": "7e4c43c5",
   "metadata": {},
   "outputs": [],
   "source": []
  },
  {
   "cell_type": "markdown",
   "id": "ec45173a",
   "metadata": {},
   "source": [
    "<h2>3. Treinamento do Modelo</h2>"
   ]
  },
  {
   "cell_type": "markdown",
   "id": "0f2cdee9",
   "metadata": {},
   "source": [
    "<h2>Objetivo: Treinar o modelo de clustering para agrupar as rotas de entrega.</h2>\n",
    "\n",
    "<h3>Escolha do Algoritmo:</h3>\n",
    "<ul>\n",
    "<li><b>K-Means</b> é uma escolha popular para clustering.</li>\n",
    "<li>O algoritmo k-means (k-médias) exige que o usuário selecione o número de clusters, isto é, \"k\".</li>\n",
    "<li>Então, ele escolhe aleatoriamente k centroides e atribui cada amostra a um cluster com base na métrica de distância a partir do centroide.</li>\n",
    "<li>Após a atribuição, os centroides são recalculados com base no centro de todas as amostras atribuídas a um rótulo.</li>\n",
    "<li>Em seguida, a atribuição das amostras aos clusters se repete com base nos novos centroides.</li>\n",
    "<li>Após algumas iterações deve haver uma convergência.</li>\n",
    "</ul>\n",
    "\n",
    "<h3>Definição do Número de Clusters:</h3>\n",
    "<ul>\n",
    "<li>O <b>gráfico de cotovelo</b> (gráfico elbow) pode ser implementado para definir o número de clusters, procurando o ponto em que a curva se dobra.</li>\n",
    "</ul>    \n",
    "\n",
    "<img src=\"M1_K-Means.png\" width=\"300\" height=\"150\">"
   ]
  },
  {
   "cell_type": "markdown",
   "id": "67159455",
   "metadata": {},
   "source": [
    "<font color=\"blue\"> <h1>Prompt</h1> </font>"
   ]
  },
  {
   "cell_type": "markdown",
   "id": "9d9668c2",
   "metadata": {},
   "source": [
    "Importe o sklearn.cluster para determinar o número ideal de clusters utilizando o Método do Cotovelo. Em seguida, crie um gráfico de linha para visualizar o Método do Cotovelo."
   ]
  },
  {
   "cell_type": "code",
   "execution_count": null,
   "id": "5ed238c1",
   "metadata": {},
   "outputs": [],
   "source": []
  },
  {
   "cell_type": "markdown",
   "id": "e4aa717c",
   "metadata": {},
   "source": [
    "<font color=\"blue\"> <h1>Prompt</h1> </font>"
   ]
  },
  {
   "cell_type": "markdown",
   "id": "764ad207",
   "metadata": {},
   "source": [
    "Utilizando 4 como o número de clusters, aplique o algoritmo K-Means aos dados de latitude e longitude normalizados. Crie um gráfico de dispersão para visualizar os clusters e os centróides. "
   ]
  },
  {
   "cell_type": "code",
   "execution_count": null,
   "id": "1310fecf",
   "metadata": {},
   "outputs": [],
   "source": []
  },
  {
   "cell_type": "markdown",
   "id": "cf798ab5",
   "metadata": {},
   "source": [
    "<h2>4. Avaliação</h2>"
   ]
  },
  {
   "cell_type": "markdown",
   "id": "d7318d89",
   "metadata": {},
   "source": [
    "<h2>Objetivo: Avaliar a qualidade dos clusters e interpretar os resultados.</h2>\n",
    "\n",
    "<h3>Métricas de Avaliação:</h3>\n",
    "<ul>\n",
    "<li><b>Inércia</b>: Soma das distâncias quadráticas dentro dos clusters.</li>\n",
    "<ul>    \n",
    "<li>Uma queda significativa na inércia ao adicionar mais clusters pode indicar que esses clusters adicionais estão capturando estrutura significativa nos dados.</li> \n",
    "<li>Entretanto, uma vez que a inércia diminui lentamente, adicionar mais clusters pode não ser útil.</li>\n",
    "</ul>    \n",
    "    \n",
    "<li><b>Silhouette Score (coeficiente de silhueta)</b>: Mede a coesão e separação dos clusters.</li>\n",
    "\n",
    "\n",
    "<ul>\n",
    "<li>É um valor entre -1 e 1, e quanto maior o valor, melhor será.</li>\n",
    "<li>O valor 1 indica clusters mais claros, enquanto 0 implica clusters que se sobrepõem.</li> \n",
    "</ul>    \n",
    "</ul>  \n",
    "\n",
    "<h3>Visualização dos Clusters:</h3>\n",
    "<ul>\n",
    "<li>Gráficos de dispersão para visualizar a distribuição dos clusters.</li>\n",
    "<li>Análise de padrões nos dados agrupados.</li>\n",
    "</ul> "
   ]
  },
  {
   "cell_type": "markdown",
   "id": "9e2a3b4d",
   "metadata": {},
   "source": [
    "<font color=\"blue\"> <h1>Prompt</h1> </font>"
   ]
  },
  {
   "cell_type": "markdown",
   "id": "4a63963c",
   "metadata": {},
   "source": [
    "Calcule a inércia (WCSS) e o Silhouette Score do modelo KMeans para avaliar a qualidade dos clusters. "
   ]
  },
  {
   "cell_type": "code",
   "execution_count": null,
   "id": "796ffac6",
   "metadata": {},
   "outputs": [],
   "source": []
  },
  {
   "cell_type": "markdown",
   "id": "67aa5612",
   "metadata": {},
   "source": [
    "<h2>5. Teste</h2>"
   ]
  },
  {
   "cell_type": "markdown",
   "id": "857d6dcb",
   "metadata": {},
   "source": [
    "<font color=\"blue\"> <h1>Prompt</h1> </font>"
   ]
  },
  {
   "cell_type": "markdown",
   "id": "80455499",
   "metadata": {},
   "source": [
    "Utilizando as latitudes originais, armazene cada cluster em um dataframe distinto e exiba-o. Também plote cada cluster em um gráfico distinto. Quantos itens ficaram em cada cluster?"
   ]
  },
  {
   "cell_type": "code",
   "execution_count": null,
   "id": "90d27fdc",
   "metadata": {
    "scrolled": false
   },
   "outputs": [],
   "source": []
  }
 ],
 "metadata": {
  "kernelspec": {
   "display_name": "Python 3 (ipykernel)",
   "language": "python",
   "name": "python3"
  },
  "language_info": {
   "codemirror_mode": {
    "name": "ipython",
    "version": 3
   },
   "file_extension": ".py",
   "mimetype": "text/x-python",
   "name": "python",
   "nbconvert_exporter": "python",
   "pygments_lexer": "ipython3",
   "version": "3.11.4"
  }
 },
 "nbformat": 4,
 "nbformat_minor": 5
}
