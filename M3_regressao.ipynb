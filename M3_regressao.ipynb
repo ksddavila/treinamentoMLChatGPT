{
 "cells": [
  {
   "cell_type": "markdown",
   "id": "1f9e33e3",
   "metadata": {},
   "source": [
    "<h1>Módulo 3: Aprendizado Supervisionado: Regressão</h1>\n",
    "\n",
    "<h3>Objetivo: Prever o valor do limite de crédito a ser concedido para um cliente. </h3>\n",
    "\n",
    "<h2>1. Introdução e Coleta dos Dados</h2>\n",
    "\n",
    "<h3>O que é Regressão?</h3>\n",
    "<ul>\n",
    "<li>Processo de Machine Learning supervisionado.</li>\n",
    "<li>Ao invés de prever um rótulo, iremos prever um valor contínuo (um número).</li>\n",
    "<li>O sklearn é capaz de aplicar muitos dos mesmos modelos de classificação em problemas de regressão, mas as métrias de avaliação são diferentes.</li>\n",
    "</ul>\n",
    "\n",
    "<h3>Coleta dos Dados:</h3>\n",
    "<ul>\n",
    "<li>Dados fornecidos: ID_CLIENTE, SEGMENTACAO, RENDA, INADIMPLENTE, ANTIGUIDADE, PEDRA.</li>\n",
    "</ul>    "
   ]
  },
  {
   "cell_type": "code",
   "execution_count": 1,
   "id": "64562dfb",
   "metadata": {},
   "outputs": [],
   "source": [
    "# Ocultar todos os warnings (Opcional)\n",
    "import warnings\n",
    "warnings.filterwarnings('ignore')"
   ]
  },
  {
   "cell_type": "markdown",
   "id": "7037e487",
   "metadata": {},
   "source": [
    "<font color=\"blue\"> <h1>Prompt</h1> </font>"
   ]
  },
  {
   "cell_type": "markdown",
   "id": "ddfdf480",
   "metadata": {},
   "source": [
    "Nós vamos trabalhar com aprendizado Supervisionado, utilizando a Regressão Linear. A finalidade é prever o valor do limite de crédito a ser concedido para um cliente. Vou fornecer um passo a passo para ser executado a seguir. Importante: Execute apenas as etapas que forem passadas e não importe ace_tools. "
   ]
  },
  {
   "cell_type": "markdown",
   "id": "83702ad3",
   "metadata": {},
   "source": [
    "<font color=\"blue\"> <h1>Prompt</h1> </font>"
   ]
  },
  {
   "cell_type": "markdown",
   "id": "951a9c26",
   "metadata": {},
   "source": [
    "Primeiro, importe as bibliotecas necessárias para manipulação de dados, clusterização e visualização: pandas, numpy, matplotlib e sklearn."
   ]
  },
  {
   "cell_type": "code",
   "execution_count": null,
   "id": "ced35b73",
   "metadata": {},
   "outputs": [],
   "source": []
  },
  {
   "cell_type": "markdown",
   "id": "89406dd2",
   "metadata": {},
   "source": [
    "<font color=\"blue\"> <h1>Prompt</h1> </font>"
   ]
  },
  {
   "cell_type": "markdown",
   "id": "e522d2f0",
   "metadata": {},
   "source": [
    "Carregue a base de dados presente no link 'https://github.com/ksddavila/treinamentoMLChatGPT/raw/main/M3_base_limites.xlsx'. Chame esse dataframe de 'df'"
   ]
  },
  {
   "cell_type": "code",
   "execution_count": null,
   "id": "8a558e10",
   "metadata": {},
   "outputs": [],
   "source": []
  },
  {
   "cell_type": "markdown",
   "id": "8e10a032",
   "metadata": {},
   "source": [
    "<h2>2. Análise de Dados e Pré-processamento</h2>"
   ]
  },
  {
   "cell_type": "markdown",
   "id": "81444ffc",
   "metadata": {},
   "source": [
    "<font color=\"blue\"> <h1>Prompt</h1> </font>"
   ]
  },
  {
   "cell_type": "markdown",
   "id": "1d29cadf",
   "metadata": {},
   "source": [
    "Verifique se existem valores ausentes no dataframe. "
   ]
  },
  {
   "cell_type": "code",
   "execution_count": null,
   "id": "f1af5a58",
   "metadata": {},
   "outputs": [],
   "source": []
  },
  {
   "cell_type": "markdown",
   "id": "56519940",
   "metadata": {},
   "source": [
    "<font color=\"blue\"> <h1>Prompt</h1> </font>"
   ]
  },
  {
   "cell_type": "markdown",
   "id": "a5eacab7",
   "metadata": {},
   "source": [
    "Primeiro, vamos calcular as estatísticas descritivas das variáveis numéricas."
   ]
  },
  {
   "cell_type": "code",
   "execution_count": null,
   "id": "ff0a00a8",
   "metadata": {},
   "outputs": [],
   "source": []
  },
  {
   "cell_type": "markdown",
   "id": "dabfb9e2",
   "metadata": {},
   "source": [
    "<font color=\"blue\"> <h1>Prompt</h1> </font>"
   ]
  },
  {
   "cell_type": "markdown",
   "id": "2ea2abc2",
   "metadata": {},
   "source": [
    "Aplique o pairplot para gerar uma grade de gráficos de dispersão para cada par de variáveis e histogramas para cada variável individual, afim de entender melhor as correlações e distribuições dos dados."
   ]
  },
  {
   "cell_type": "code",
   "execution_count": null,
   "id": "d3910e8d",
   "metadata": {},
   "outputs": [],
   "source": []
  },
  {
   "cell_type": "markdown",
   "id": "3d7cb88b",
   "metadata": {},
   "source": [
    "<font color=\"blue\"> <h1>Prompt</h1> </font>"
   ]
  },
  {
   "cell_type": "markdown",
   "id": "55048c67",
   "metadata": {},
   "source": [
    "Vamos realizar a codificação das variáveis categóricas usando One-Hot Encoding"
   ]
  },
  {
   "cell_type": "code",
   "execution_count": null,
   "id": "41e17304",
   "metadata": {},
   "outputs": [],
   "source": []
  },
  {
   "cell_type": "markdown",
   "id": "9d64ba0e",
   "metadata": {},
   "source": [
    "<h2>3. Treinamento do Modelo</h2>"
   ]
  },
  {
   "cell_type": "markdown",
   "id": "1013f646",
   "metadata": {},
   "source": [
    "<font color=\"blue\"> <h1>Prompt</h1> </font>"
   ]
  },
  {
   "cell_type": "markdown",
   "id": "fbdfb754",
   "metadata": {},
   "source": [
    "Agora divida os dados em treino e teste (80-20%). Exclua a coluna 'ID_CLIENTE'."
   ]
  },
  {
   "cell_type": "code",
   "execution_count": null,
   "id": "a9eafbd8",
   "metadata": {},
   "outputs": [],
   "source": []
  },
  {
   "cell_type": "markdown",
   "id": "62753209",
   "metadata": {},
   "source": [
    "<font color=\"blue\"> <h1>Prompt</h1> </font>"
   ]
  },
  {
   "cell_type": "markdown",
   "id": "26b0cbc3",
   "metadata": {},
   "source": [
    "Construa o modelo de regressão linear e aplique o coef_ (coeficientes), exibindo-o em um dataframe. Explique os resultados.  "
   ]
  },
  {
   "cell_type": "code",
   "execution_count": null,
   "id": "295c8965",
   "metadata": {},
   "outputs": [],
   "source": []
  },
  {
   "cell_type": "markdown",
   "id": "f1604e70",
   "metadata": {},
   "source": [
    "<h2>Coeficientes:</h2>\n",
    "<ul>\n",
    "<li>O atributo (coef_) armazena os coeficientes (pesos) atribuídos a cada uma das variáveis independentes. </li>               <li>Esses coeficientes indicam a magnitude e a direção da relação entre cada variável independente e a variável dependente (neste caso, o limite de crédito).</li>  \n",
    "<li>Coeficientes positivos aumentam o limite de crédito, enquanto coeficientes negativos o reduzem.</li>    \n",
    "</ul>    \n",
    "\n",
    "<h2>Propósito dos Coeficientes:</h2>\n",
    "<ul>\n",
    "<li><b>Quantificam a Relação:</b> Cada coeficiente quantifica a relação entre uma variável independente e a variável dependente.</li>\n",
    "<ul>\n",
    "<li>Um coeficiente positivo indica que, à medida que a variável independente aumenta, a variável dependente também tende a aumentar. Um coeficiente negativo indica que, à medida que a variável independente aumenta, a variável dependente tende a diminuir.</li>\n",
    "</ul>   \n",
    "<li><b>Importância das Variáveis:</b> A magnitude do coeficiente indica a força da relação. Variáveis com coeficientes maiores (em valor absoluto) têm um impacto maior na previsão da variável dependente.</li>\n",
    "<li><b>Interpretação do Modelo:</b> Eles ajudam a entender como cada variável está contribuindo para a previsão, facilitando a interpretação do modelo.</li>\n",
    "</ul>\n",
    "\n",
    "<h2>Exemplo:</h2>\n",
    "<ul>\n",
    "<li><b>SEGMENTACAO: 1500.0</b> ----> Um aumento de uma unidade na segmentação (ex.: de 'Novo' para 'Fiel') resulta em um aumento de R$ 1500 no limite de crédito, mantidas todas as outras variáveis constantes.</li>\n",
    "\n",
    "<li><b>RENDA: 3000.0</b> ----> Um aumento de uma unidade padrão na renda resulta em um aumento de R$ 3000 no limite de crédito.</li>\n",
    "    \n",
    "<li><b>INADIMPLENTE: -2000.0</b> ----> Se um cliente é inadimplente, o limite de crédito diminui em R$ 2000.</li>\n",
    "\n",
    "<li><b>ANTIGUIDADE: 500.0</b> ----> Cada ano adicional de antiguidade aumenta o limite de crédito em R$ 500.</li>\n",
    "    \n",
    "<li><b>PEDRA: 1000.0</b> ----> Um aumento de uma unidade na categoria da pedra (ex.: de 'Prata' para 'Ouro') resulta em um aumento de R$ 1000 no limite de crédito.</li>     \n",
    "</ul>"
   ]
  },
  {
   "cell_type": "markdown",
   "id": "17eeb8b7",
   "metadata": {},
   "source": [
    "<h2>4. Avaliação</h2>"
   ]
  },
  {
   "cell_type": "markdown",
   "id": "6376a754",
   "metadata": {},
   "source": [
    "### Explicação das Métricas de Avaliação\n",
    "\n",
    "<h4>Root Mean Squared Error (RMSE), Mean Absolute Error (MAE) e R² (coeficiente de determinação).</h4>\n",
    "<ul>\n",
    "<li><b>root_mean_squared_error</b>: Calcula a raiz quadrada do erro quadrático médio, oferecendo uma interpretação mais direta dos erros no mesmo espaço das variáveis dependentes.</li>    \n",
    "<li><b>mean_absolute_error</b>: Calcula o erro absoluto médio entre as previsões e os valores reais.</li>\n",
    "<li><b>r2_score</b>: Calcula o coeficiente de determinação, que mede a proporção da variação na variável dependente que é previsível a partir das variáveis independentes.</li>\n",
    "</ul>\n",
    "\n",
    "<h4>Propósito das Métricas</h4>\n",
    "\n",
    "<h5>RMSE (Root Mean Squared Error):</h5>\n",
    "<ul>\n",
    "<li>Fornece uma medida da magnitude dos erros de previsão no mesmo espaço das variáveis dependentes.</li>\n",
    "<li>Penaliza erros grandes de forma mais significativa do que o MAE.</li>\n",
    "<li>Menor valor indica melhor desempenho do modelo.</li>\n",
    "</ul>\n",
    "\n",
    "<h5>MAE (Mean Absolute Error):</h5>\n",
    "<ul>\n",
    "<li>Indica, em média, o quanto as previsões estão distantes dos valores reais.</li>\n",
    "<li>É intuitivo e fácil de interpretar.</li>\n",
    "<li>Não penaliza tanto grandes erros como o MSE.</li>\n",
    "</ul>\n",
    "\n",
    "<h5>R² (Coeficiente de Determinação):</h5>\n",
    "<ul>\n",
    "<li>Mede a proporção da variância na variável dependente que é explicada pelas variáveis independentes.</li>\n",
    "<li>Um valor de R² próximo de 1 indica que o modelo explica bem a variabilidade dos dados.</li>\n",
    "<li>Um valor de R² próximo de 0 indica que o modelo não explica bem a variabilidade dos dados.</li>\n",
    "</ul>"
   ]
  },
  {
   "cell_type": "markdown",
   "id": "30d2b997",
   "metadata": {},
   "source": [
    "<font color=\"blue\"> <h1>Prompt</h1> </font>"
   ]
  },
  {
   "cell_type": "markdown",
   "id": "ebd45b43",
   "metadata": {},
   "source": [
    "Realize avaliações com o Root Mean Squared Error (RMSE), Mean Absolute Error (MAE) e R² (coeficiente de determinação). Explique os resultados obtidos. "
   ]
  },
  {
   "cell_type": "code",
   "execution_count": null,
   "id": "bedb1de1",
   "metadata": {},
   "outputs": [],
   "source": []
  },
  {
   "cell_type": "markdown",
   "id": "6b121513",
   "metadata": {},
   "source": [
    "<h2>5. Aplicando</h2>"
   ]
  },
  {
   "cell_type": "markdown",
   "id": "8f5a7dc4",
   "metadata": {},
   "source": [
    "<font color=\"blue\"> <h1>Prompt</h1> </font>"
   ]
  },
  {
   "cell_type": "markdown",
   "id": "69ac4dbf",
   "metadata": {},
   "source": [
    "Utilizando o modelo treinado e executando localmente, gere aleatoriamente 3 dados de clientes novos, aplique ao modelo que trabalhamos e exiba limite de crédito previsto. Ajuste a saída para ficar do tipo:\n",
    "* ID_CLIENTE\t\n",
    "* SEGMENTO_CLIENTE\t\n",
    "* RENDA\t\n",
    "* INADIMPLENTE\t\n",
    "* ANTIGUIDADE\t\n",
    "* PEDRA\t\n",
    "* LIMITE_CREDITO\n",
    "\n",
    "Aplique 42 à aleatoriedade. Garanta que o OneHotEncoder e todas as etapas de tratamento sejam aplicadas. "
   ]
  },
  {
   "cell_type": "code",
   "execution_count": null,
   "id": "bb739893",
   "metadata": {},
   "outputs": [],
   "source": []
  }
 ],
 "metadata": {
  "kernelspec": {
   "display_name": "Python 3 (ipykernel)",
   "language": "python",
   "name": "python3"
  },
  "language_info": {
   "codemirror_mode": {
    "name": "ipython",
    "version": 3
   },
   "file_extension": ".py",
   "mimetype": "text/x-python",
   "name": "python",
   "nbconvert_exporter": "python",
   "pygments_lexer": "ipython3",
   "version": "3.11.4"
  }
 },
 "nbformat": 4,
 "nbformat_minor": 5
}
